{
 "cells": [
  {
   "cell_type": "markdown",
   "id": "cd068d27",
   "metadata": {
    "collapsed": true
   },
   "source": [
    "pip install docx2txt\n"
   ]
  },
  {
   "cell_type": "markdown",
   "id": "b2f39c37",
   "metadata": {
    "collapsed": true
   },
   "source": [
    "pip install wikipedia -q"
   ]
  },
  {
   "cell_type": "code",
   "execution_count": 1,
   "id": "9c78bb0e",
   "metadata": {},
   "outputs": [],
   "source": [
    "from IPython.display import display, Markdown"
   ]
  },
  {
   "cell_type": "code",
   "execution_count": 2,
   "id": "a9c1c4ef",
   "metadata": {},
   "outputs": [],
   "source": [
    "import getpass\n",
    "import google.generativeai as genai\n",
    "from langchain_google_genai import ChatGoogleGenerativeAI\n"
   ]
  },
  {
   "cell_type": "code",
   "execution_count": 3,
   "id": "beb288b1",
   "metadata": {},
   "outputs": [
    {
     "data": {
      "text/plain": [
       "True"
      ]
     },
     "execution_count": 3,
     "metadata": {},
     "output_type": "execute_result"
    }
   ],
   "source": [
    "import os\n",
    "from dotenv import load_dotenv, find_dotenv\n",
    "load_dotenv('./.env')"
   ]
  },
  {
   "cell_type": "code",
   "execution_count": 4,
   "id": "c29eb874",
   "metadata": {
    "collapsed": true
   },
   "outputs": [
    {
     "data": {
      "text/plain": [
       "'f236a46e-e0e7-4399-a0b2-cb4b8e44bfd8'"
      ]
     },
     "execution_count": 4,
     "metadata": {},
     "output_type": "execute_result"
    }
   ],
   "source": [
    "os.environ.get('PINECONE_KEY')"
   ]
  },
  {
   "cell_type": "markdown",
   "id": "a22e95f4",
   "metadata": {},
   "source": [
    "def load_document(file): \\\n",
    "    from langchain.document_loaders import PyPDFLoader\\\n",
    "    print(f'Loading {file}')\\\n",
    "    loader = PyPDFLoader(file)\\\n",
    "    data = loader.load()\\\n",
    "    return data"
   ]
  },
  {
   "cell_type": "code",
   "execution_count": null,
   "id": "03e22119",
   "metadata": {},
   "outputs": [],
   "source": [
    "#print(data[1].page_content)\\\n",
    "#print(data[0].metadata) #page numbering starts with 0\\\n",
    "#print(f'you have {len(data)} pages in your data')\\\n",
    "#print(f'There are {len(data[20].page_content)} characters in your page')"
   ]
  },
  {
   "cell_type": "code",
   "execution_count": 6,
   "id": "ccc1a24b",
   "metadata": {},
   "outputs": [],
   "source": [
    "def load_document(file):\n",
    "    name, extension = os.path.splitext(file)\n",
    "    \n",
    "    if extension == '.pdf':\n",
    "        from langchain.document_loaders import PyPDFLoader\n",
    "        print(f'Loading {file}')\n",
    "        loader = PyPDFLoader(file)\n",
    "    \n",
    "    elif extension == '.docx':\n",
    "        from langchain.document_loaders import Docx2txtLoader\n",
    "        print(f'Loading {file}')\n",
    "        loader = Docx2txtLoader(file)\n",
    "        \n",
    "    else:\n",
    "        print(\"Unsupported Format\")\n",
    "        return(None)\n",
    "    \n",
    "    data = loader.load()\n",
    "    return data"
   ]
  },
  {
   "cell_type": "markdown",
   "id": "2ec283b6",
   "metadata": {},
   "source": [
    "#### Running the Code"
   ]
  },
  {
   "cell_type": "code",
   "execution_count": null,
   "id": "c4358d2e",
   "metadata": {},
   "outputs": [],
   "source": [
    "data1 = load_document(\"D:/Books/Final Year 1st_Sem/Industrial Training/HPPWD.docx\")"
   ]
  },
  {
   "cell_type": "code",
   "execution_count": null,
   "id": "d10e6bca",
   "metadata": {},
   "outputs": [],
   "source": [
    "print(data1[0].page_content)"
   ]
  },
  {
   "cell_type": "markdown",
   "id": "30222b7d",
   "metadata": {},
   "source": [
    "### Public and Private Service Loaders"
   ]
  },
  {
   "cell_type": "code",
   "execution_count": 9,
   "id": "9c300fd9",
   "metadata": {},
   "outputs": [
    {
     "name": "stdout",
     "output_type": "stream",
     "text": [
      "Loading D:/LangChain courses/LLM Project/[CourseClub.Me] ZerotoMastery - Build an LLM-powered QA App using LangChain, OpenAI and Python/code/Notebooks/files/us_constitution.pdf\n"
     ]
    }
   ],
   "source": [
    "data = load_document(\"D:/LangChain courses/LLM Project/[CourseClub.Me] ZerotoMastery - Build an LLM-powered QA App using LangChain, OpenAI and Python/code/Notebooks/files/us_constitution.pdf\")"
   ]
  },
  {
   "cell_type": "code",
   "execution_count": 69,
   "id": "c67ff188",
   "metadata": {},
   "outputs": [
    {
     "data": {
      "text/plain": [
       "list"
      ]
     },
     "execution_count": 69,
     "metadata": {},
     "output_type": "execute_result"
    }
   ],
   "source": [
    "type(data)"
   ]
  },
  {
   "cell_type": "code",
   "execution_count": 7,
   "id": "b4c26883",
   "metadata": {},
   "outputs": [],
   "source": [
    "from langchain.text_splitter import RecursiveCharacterTextSplitter\n",
    "text_splitter = RecursiveCharacterTextSplitter(\n",
    "    chunk_size = 256,\n",
    "    chunk_overlap=0,\n",
    "    length_function=len\n",
    ")\n"
   ]
  },
  {
   "cell_type": "markdown",
   "id": "225922ec",
   "metadata": {},
   "source": [
    "#### .create_documents()\n",
    " is used when starting with raw text and creating Document objects from it.\n",
    "#### .split_documents()\n",
    "is used when you already have Document objects and want to split their content into smaller chunks."
   ]
  },
  {
   "cell_type": "markdown",
   "id": "a78e73ee",
   "metadata": {},
   "source": [
    "chunks = text_splitter.create_documents([str(data)])\\\n",
    "print(chunks)"
   ]
  },
  {
   "cell_type": "code",
   "execution_count": 10,
   "id": "efae3d77",
   "metadata": {
    "scrolled": true
   },
   "outputs": [],
   "source": [
    "chunks = text_splitter.split_documents(data)\n"
   ]
  },
  {
   "cell_type": "code",
   "execution_count": 11,
   "id": "b25123c4",
   "metadata": {},
   "outputs": [
    {
     "name": "stdout",
     "output_type": "stream",
     "text": [
      "190\n"
     ]
    }
   ],
   "source": [
    "print(len(chunks))"
   ]
  },
  {
   "cell_type": "code",
   "execution_count": 12,
   "id": "37fd1280",
   "metadata": {
    "collapsed": true
   },
   "outputs": [
    {
     "name": "stdout",
     "output_type": "stream",
     "text": [
      "Representatives\n",
      "shall\n",
      "chuse\n",
      "their\n",
      "Speaker\n",
      "and\n",
      "other\n",
      "Of ficers;and\n",
      "shall\n",
      "have\n",
      "the\n",
      "sole\n",
      "Power\n",
      "of\n",
      "Impeachment.\n",
      "Section\n",
      "3:\n",
      "The\n",
      "Senate\n",
      "The\n",
      "Senate\n",
      "of\n",
      "the\n",
      "United\n",
      "States\n",
      "shall\n",
      "be\n",
      "composed\n",
      "of\n",
      "two\n",
      "Senators\n",
      "from\n",
      "each\n",
      "State,\n",
      "chosen\n",
      "by\n",
      "the\n",
      "Legislature\n",
      "thereof,\n",
      "for\n",
      "six\n"
     ]
    }
   ],
   "source": [
    "print(chunks[10].page_content)"
   ]
  },
  {
   "cell_type": "code",
   "execution_count": null,
   "id": "e7b05116",
   "metadata": {},
   "outputs": [],
   "source": [
    "import tiktoken"
   ]
  },
  {
   "cell_type": "code",
   "execution_count": null,
   "id": "ec94a0b6",
   "metadata": {},
   "outputs": [],
   "source": [
    "def print_embedding_cost(texts):\n",
    "    enc = tiktoken.encoding_for_model('text-embedding-ada-002')\n",
    "    total_tokens = sum([len(enc.encode(page.page_content)) for page in texts])\n",
    "    print(f'Total Tokens: {total_tokens}')\n",
    "    print(f'Embedding Cost in USD: {total_tokens / 1000 *0.0004:.6f}')\n",
    "\n",
    "print_embedding_cost(chunks)"
   ]
  },
  {
   "cell_type": "markdown",
   "id": "412565af",
   "metadata": {},
   "source": [
    "#### Embedding and Uploading"
   ]
  },
  {
   "cell_type": "code",
   "execution_count": 13,
   "id": "08be10ed",
   "metadata": {},
   "outputs": [],
   "source": [
    "from langchain_google_genai import GoogleGenerativeAIEmbeddings\n",
    "\n",
    "gemini_embeddings = GoogleGenerativeAIEmbeddings(model=\"models/embedding-001\")"
   ]
  },
  {
   "cell_type": "code",
   "execution_count": 14,
   "id": "7d9d6c37",
   "metadata": {},
   "outputs": [],
   "source": [
    "import pinecone\n",
    "from langchain.vectorstores import Pinecone"
   ]
  },
  {
   "cell_type": "code",
   "execution_count": 40,
   "id": "1905df7a",
   "metadata": {},
   "outputs": [],
   "source": [
    "from pinecone import Pinecone, ServerlessSpec\n",
    "\n",
    "pc = Pinecone(api_key=os.environ.get('PINECONE_KEY'))"
   ]
  },
  {
   "cell_type": "code",
   "execution_count": 42,
   "id": "1f335274",
   "metadata": {},
   "outputs": [],
   "source": [
    "def insert_embeddings(index_name):\n",
    "    if index_name in pc.list_indexes():\n",
    "        print(f'Index {index_name} already exists. loading embeddings.', end = '')\n",
    "        vector_store = pc.from_existing_index(index_name, embeddings)\n",
    "        print('done')\n",
    "    else:\n",
    "        print(f'Creating index {index_name} and embeddings.',end = '')\n",
    "        vector_store =  pc.create_index(index_name, dimension=768,metric='cosine',\n",
    "        spec=ServerlessSpec(\n",
    "        cloud=\"aws\",\n",
    "        region=\"us-east-1\"))\n",
    "        index = pc.Index(index_name)\n",
    "        embeddings = [gemini_embeddings.embed_query(doc.page_content) for doc in chunks]\n",
    "        vectors = []\n",
    "        for i, embedding in enumerate(embeddings):\n",
    "            chunk_id = f\"chunk_{i}\"\n",
    "            metadata = {\"text\": chunks[i].page_content}\n",
    "            vectors.append((chunk_id, embedding, metadata))\n",
    "            index.upsert(vectors)\n",
    "        "
   ]
  },
  {
   "cell_type": "code",
   "execution_count": 43,
   "id": "5a9d3c44",
   "metadata": {},
   "outputs": [],
   "source": [
    "def delete_pinecone_index(index_name = 'all'):\n",
    "    if index_name == 'all':\n",
    "        indexes = pc.list_indexes().names()\n",
    "        print('Deleting all indexes..')\n",
    "        for index in indexes:\n",
    "            pc.delete_index(index)\n",
    "            print('done')\n",
    "    else:\n",
    "        print(f' Deleting index {index_name} ... ', end = '')\n",
    "        pc.delete_index(index_name)\n",
    "        print('done')"
   ]
  },
  {
   "cell_type": "code",
   "execution_count": 19,
   "id": "48def5c3",
   "metadata": {
    "scrolled": false
   },
   "outputs": [
    {
     "name": "stdout",
     "output_type": "stream",
     "text": [
      "Deleting all indexes..\n",
      "done\n"
     ]
    }
   ],
   "source": [
    "delete_pinecone_index()\n"
   ]
  },
  {
   "cell_type": "code",
   "execution_count": 20,
   "id": "7d2d0ddd",
   "metadata": {},
   "outputs": [
    {
     "name": "stdout",
     "output_type": "stream",
     "text": [
      "Creating index askadocument and embeddings."
     ]
    }
   ],
   "source": [
    "index_name = 'askadocument'\n",
    "vector_store = insert_embeddings(index_name)"
   ]
  },
  {
   "cell_type": "markdown",
   "id": "66693a08",
   "metadata": {},
   "source": [
    "#### Asking and Getting Answers"
   ]
  },
  {
   "cell_type": "code",
   "execution_count": 44,
   "id": "fb52154b",
   "metadata": {},
   "outputs": [],
   "source": [
    "index_name = 'askadocument'"
   ]
  },
  {
   "cell_type": "code",
   "execution_count": 45,
   "id": "91f9ffa9",
   "metadata": {},
   "outputs": [],
   "source": [
    "gemini_api_key = os.environ.get('GOOGLE_API_KEY')"
   ]
  },
  {
   "cell_type": "code",
   "execution_count": 46,
   "id": "f7d9a477",
   "metadata": {},
   "outputs": [],
   "source": [
    "genai.configure(api_key=gemini_api_key)"
   ]
  },
  {
   "cell_type": "code",
   "execution_count": 47,
   "id": "0fed3366",
   "metadata": {},
   "outputs": [],
   "source": [
    "index = pc.Index(index_name)"
   ]
  },
  {
   "cell_type": "code",
   "execution_count": 48,
   "id": "5494236b",
   "metadata": {},
   "outputs": [],
   "source": [
    "from langchain.vectorstores import Pinecone\n",
    "\n",
    "# Initialize the Pinecone vector store\n",
    "vector_store = Pinecone(\n",
    "    index=index,  # Your Pinecone index object\n",
    "    embedding=gemini_embeddings,  # Embedding function\n",
    "    text_key=\"text\"  # Metadata key where document text is stored\n",
    ")"
   ]
  },
  {
   "cell_type": "code",
   "execution_count": 59,
   "id": "6f0c1b32",
   "metadata": {},
   "outputs": [
    {
     "data": {
      "text/plain": [
       "langchain_community.vectorstores.pinecone.Pinecone"
      ]
     },
     "execution_count": 59,
     "metadata": {},
     "output_type": "execute_result"
    }
   ],
   "source": [
    "type(vector_store)"
   ]
  },
  {
   "cell_type": "code",
   "execution_count": 60,
   "id": "19b9b77e",
   "metadata": {},
   "outputs": [],
   "source": [
    "from langchain.chains import RetrievalQA\n",
    "def aq(query):\n",
    "    values = {\"model\": \"gemini-1.5-flash-latest\"}  # or another supported model\n",
    "    llm = ChatGoogleGenerativeAI(**values)\n",
    "    retriever = vector_store.as_retriever(search_type='similarity', search_kwargs ={'k' : 3})\n",
    "    chain = RetrievalQA.from_chain_type(llm = llm, chain_type = \"stuff\", retriever=retriever)\n",
    "    ans = chain.run(query)\n",
    "    return ans"
   ]
  },
  {
   "cell_type": "code",
   "execution_count": 65,
   "id": "2e2da18f",
   "metadata": {
    "scrolled": true
   },
   "outputs": [],
   "source": [
    "q = \"What is the context of document ?\"\n"
   ]
  },
  {
   "cell_type": "code",
   "execution_count": 66,
   "id": "a5644d20",
   "metadata": {
    "scrolled": false
   },
   "outputs": [
    {
     "data": {
      "text/markdown": [
       "The context of the document is the **U.S. Constitution, specifically Article III, Section 2, Clause 3**. This section deals with the jurisdiction of the Supreme Court. \n",
       "\n",
       "The portion you provided describes the types of cases the Supreme Court has original jurisdiction over, meaning cases that can be filed directly with the Supreme Court. \n"
      ],
      "text/plain": [
       "<IPython.core.display.Markdown object>"
      ]
     },
     "metadata": {},
     "output_type": "display_data"
    }
   ],
   "source": [
    "display(Markdown(aq(q)))"
   ]
  },
  {
   "cell_type": "code",
   "execution_count": 63,
   "id": "d57b3c44",
   "metadata": {
    "collapsed": true
   },
   "outputs": [
    {
     "name": "stdout",
     "output_type": "stream",
     "text": [
      "Write quit or exit to leave terminal\n",
      "Question #1: explanation Amendment \n"
     ]
    },
    {
     "data": {
      "text/markdown": [
       "The provided text is a fragment of a proposed amendment to the United States Constitution.  It doesn't provide the full context of what the amendment would actually change. \n",
       "\n",
       "Here's what we can glean from the text:\n",
       "\n",
       "* **Repeal:** The amendment starts by repealing a previous section (Section 2) of the Constitution. \n",
       "* **Ratification Process:** The amendment outlines the ratification process, requiring approval by the legislatures of the states within seven years of its submission. \n",
       "* **Temporary Appointments:** The amendment discusses temporary appointments until vacancies are filled by election, potentially related to the Senate.\n",
       "* **Election and Term of Senators:** The amendment clarifies that it won't affect the election or term of any Senator already chosen before the amendment becomes part of the Constitution.\n",
       "\n",
       "**To fully understand the amendment, we would need to know:**\n",
       "\n",
       "* **What was the content of Section 2 that is being repealed?**\n",
       "* **What specific changes to the process of filling vacancies in the Senate are being proposed?**\n",
       "\n",
       "Without that information, it's impossible to provide a full explanation of the amendment. \n"
      ],
      "text/plain": [
       "<IPython.core.display.Markdown object>"
      ]
     },
     "metadata": {},
     "output_type": "display_data"
    },
    {
     "name": "stdout",
     "output_type": "stream",
     "text": [
      "\n",
      "--------------------------------------------------\n",
      "\n",
      "Question #2: quit\n",
      "Leaving terminal...\n"
     ]
    }
   ],
   "source": [
    "import time\n",
    "i = 1\n",
    "print('Write quit or exit to leave terminal')\n",
    "while True:\n",
    "    q = input(f'Question #{i}: ')\n",
    "    i= i + 1\n",
    "    if q.lower() in ['quit', 'exit']:\n",
    "        print('Leaving terminal...')\n",
    "        time.sleep(2)\n",
    "        break\n",
    "    \n",
    "    answer = aq(q)  # Get the answer from the function\n",
    "    display(Markdown(answer))  # Display the answer as Markdown  # Print the answer as plain text\n",
    "    print(f'\\n{\"-\"*50}\\n')"
   ]
  },
  {
   "cell_type": "code",
   "execution_count": 67,
   "id": "7da2080a",
   "metadata": {},
   "outputs": [],
   "source": [
    "def load_from_wikipedia(query,lang = 'en', load_max_docs=2):\n",
    "    from langchain.document_loaders import WikipediaLoader\n",
    "    loader = WikipediaLoader(query=query, lang=lang, load_max_docs=2)\n",
    "    data = loader.load()\n",
    "    return data"
   ]
  },
  {
   "cell_type": "code",
   "execution_count": 97,
   "id": "6eb14d12",
   "metadata": {
    "collapsed": true
   },
   "outputs": [
    {
     "name": "stdout",
     "output_type": "stream",
     "text": [
      "On 9 August 2024, Moumita Debnath, a trainee doctor at R. G. Kar Medical College in Kolkata, West Bengal, India, was raped and murdered in a college building. Her body was found in a seminar room on campus. The incident has amplified debate about the safety of women and doctors in India, and has sparked significant outrage, nationwide and international protests, and demands for a thorough investigation.\n",
      "\n",
      "\n",
      "== Incident ==\n",
      "\n",
      "On the night of 8 August 2024, Debnath had dinner with her colleagues and retired in a seminar hall after a 36-hour shift in the hospital. At about 9:30 IST the following morning, her body was discovered in the seminar hall in a semi-nude state with her eyes, mouth, and genitals bleeding. She was later declared dead. College authorities initially informed her family that she had committed suicide. \n",
      "An autopsy was conducted on 9 August and, after its completion, an unnatural death case was registered.\n",
      "\n",
      "\n",
      "== Investigation ==\n",
      "\n",
      "\n",
      "=== Autopsy report ===\n",
      "An autopsy revealed that Debnath had been raped and sexually assaulted before being killed via strangulation. The report, spanning four pages, also noted a deep wound in her genital tract, lips, left leg, right hand, ring finger, neck, and face. The report revealed that the scratch marks on the woman's face were likely caused by the culprit’s fingernails. According to the report, pressure was applied to her mouth and throat, and she was strangled, resulting in a fracture of the thyroid cartilage. The report also noted bleeding from her eyes, mouth, and genitals, with the injuries in her genital area attributed to \"perverted sexuality\" and \"genital torture\". The exact cause of the injuries to her eyes remains undetermined.\n",
      "It was reported that the postmortem autopsy also revealed that around \"150 mg\" of semen was found in the vaginal swab. This finding, along with the extent of injuries, led the doctors who assessed the autopsy report and the victim's parents to suggest Debnath may have been subjected to gang rape. However, the Kolkata Police has dismissed these claims as rumours, stating that it is impossible to distinguish semen from multiple individuals with the naked eye during an autopsy. The CBI investigation has not so far revealed any signs of occurrence of a gang rape. In a clarification of the report's data, it was stated that the \"151 g\" (not mg) relates to the total weight of the genitalia sample collected from the body, not exclusively to semen.\n",
      "\n",
      "\n",
      "=== Arrest ===\n",
      "Following an investigation, the police arrested a suspect, a civic volunteer with the Kolkata Police disaster management force who had been posted at the police outpost near the medical college. He has been described as a womaniser and domestic abuser. According to the Kolkata Police, he confessed to the crime. A psycho-analysis test of the accused in the case was conducted by the Delhi's Central Forensic Science Laboratory (CFSL) on the request of the CBI. The officers told PTI that \"he showed no remorse and was unflustered while narrating the incident\". He was sent to a 14-day judicial custody on 23 August. \n",
      "A special CBI court had granted permission to the agency to conduct a polygraph test on the accused as well as the ex-principal of the college. The polygraph of the accused revealed several inconsistencies with regard to his narration of the events of the night of the crime. The CBI raided the house of Sandip Ghosh and former medical superintendent and vice-principal, Sanjay Vashisth of the college on 25 August and seized documents. It also filed an FIR against them over financial irregularities and corruption at the hospital.\n",
      "\n",
      "\n",
      "== Court proceedings ==\n",
      "On 13 August 2024, the Calcutta High Court, unsatisfied with the police's handling of the investigation, assigned the case to the Central Bureau of Investigation (CBI). They also flagged the possibility of destruction of evidence if the state police continued with their investigation.\n",
      "On 18 August, the Supreme Court took suo moto cognizance of \n"
     ]
    }
   ],
   "source": [
    "data = load_from_wikipedia(\"Kolkata Case\")\n",
    "print(data[0].page_content)"
   ]
  },
  {
   "cell_type": "code",
   "execution_count": 99,
   "id": "737f9379",
   "metadata": {
    "collapsed": true
   },
   "outputs": [
    {
     "data": {
      "text/plain": [
       "[Document(metadata={'title': '2024 Kolkata rape and murder incident', 'summary': 'On 9 August 2024, Moumita Debnath, a trainee doctor at R. G. Kar Medical College in Kolkata, West Bengal, India, was raped and murdered in a college building. Her body was found in a seminar room on campus. The incident has amplified debate about the safety of women and doctors in India, and has sparked significant outrage, nationwide and international protests, and demands for a thorough investigation.', 'source': 'https://en.wikipedia.org/wiki/2024_Kolkata_rape_and_murder_incident'}, page_content='On 9 August 2024, Moumita Debnath, a trainee doctor at R. G. Kar Medical College in Kolkata, West Bengal, India, was raped and murdered in a college building. Her body was found in a seminar room on campus. The incident has amplified debate about the safety of women and doctors in India, and has sparked significant outrage, nationwide and international protests, and demands for a thorough investigation.\\n\\n\\n== Incident ==\\n\\nOn the night of 8 August 2024, Debnath had dinner with her colleagues and retired in a seminar hall after a 36-hour shift in the hospital. At about 9:30 IST the following morning, her body was discovered in the seminar hall in a semi-nude state with her eyes, mouth, and genitals bleeding. She was later declared dead. College authorities initially informed her family that she had committed suicide. \\nAn autopsy was conducted on 9 August and, after its completion, an unnatural death case was registered.\\n\\n\\n== Investigation ==\\n\\n\\n=== Autopsy report ===\\nAn autopsy revealed that Debnath had been raped and sexually assaulted before being killed via strangulation. The report, spanning four pages, also noted a deep wound in her genital tract, lips, left leg, right hand, ring finger, neck, and face. The report revealed that the scratch marks on the woman\\'s face were likely caused by the culprit’s fingernails. According to the report, pressure was applied to her mouth and throat, and she was strangled, resulting in a fracture of the thyroid cartilage. The report also noted bleeding from her eyes, mouth, and genitals, with the injuries in her genital area attributed to \"perverted sexuality\" and \"genital torture\". The exact cause of the injuries to her eyes remains undetermined.\\nIt was reported that the postmortem autopsy also revealed that around \"150 mg\" of semen was found in the vaginal swab. This finding, along with the extent of injuries, led the doctors who assessed the autopsy report and the victim\\'s parents to suggest Debnath may have been subjected to gang rape. However, the Kolkata Police has dismissed these claims as rumours, stating that it is impossible to distinguish semen from multiple individuals with the naked eye during an autopsy. The CBI investigation has not so far revealed any signs of occurrence of a gang rape. In a clarification of the report\\'s data, it was stated that the \"151 g\" (not mg) relates to the total weight of the genitalia sample collected from the body, not exclusively to semen.\\n\\n\\n=== Arrest ===\\nFollowing an investigation, the police arrested a suspect, a civic volunteer with the Kolkata Police disaster management force who had been posted at the police outpost near the medical college. He has been described as a womaniser and domestic abuser. According to the Kolkata Police, he confessed to the crime. A psycho-analysis test of the accused in the case was conducted by the Delhi\\'s Central Forensic Science Laboratory (CFSL) on the request of the CBI. The officers told PTI that \"he showed no remorse and was unflustered while narrating the incident\". He was sent to a 14-day judicial custody on 23 August. \\nA special CBI court had granted permission to the agency to conduct a polygraph test on the accused as well as the ex-principal of the college. The polygraph of the accused revealed several inconsistencies with regard to his narration of the events of the night of the crime. The CBI raided the house of Sandip Ghosh and former medical superintendent and vice-principal, Sanjay Vashisth of the college on 25 August and seized documents. It also filed an FIR against them over financial irregularities and corruption at the hospital.\\n\\n\\n== Court proceedings ==\\nOn 13 August 2024, the Calcutta High Court, unsatisfied with the police\\'s handling of the investigation, assigned the case to the Central Bureau of Investigation (CBI). They also flagged the possibility of destruction of evidence if the state police continued with their investigation.\\nOn 18 August, the Supreme Court took suo moto cognizance of '),\n",
       " Document(metadata={'title': '2013 Kamduni gang rape and murder case', 'summary': 'On 7 June 2013, a 20-year-old college student was abducted, gang-raped and murdered in Kamduni village, 16km from Barasat, North 24 Parganas district about 20km from main Kolkata. In January 2016 the accused were sentenced to death and life imprisonment.', 'source': 'https://en.wikipedia.org/wiki/2013_Kamduni_gang_rape_and_murder_case'}, page_content=\"On 7 June 2013, a 20-year-old college student was abducted, gang-raped and murdered in Kamduni village, 16km from Barasat, North 24 Parganas district about 20km from main Kolkata. In January 2016 the accused were sentenced to death and life imprisonment. \\n\\n\\n== Incident ==\\nThe victim, Shipra Ghosh, a second year BA student of Derozio Memorial College was walking home along the Kamduni BDO Office Road in the afternoon, when she was abducted and taken inside a factory where she was gang-raped by eight men. After raping her, the perpetrators tore apart her legs up to the navel, slit her throat and dumped her body into a nearby field.  \\nAt around 8:30 PM local time, the brothers of the victim discovered the body of their sister alongside a bheri in the At Bigha region of Kharibari in Rajarhat. At around 9:45 PM, an altercation and subsequent skirmish occurred between the villagers and the police when the latter tried to recover the body of the victim. The crowd damaged three police vehicles. At around 2 AM, a large police contingent recovered the victim's body from the villagers and sent it to Barasat for postmortem.\\nOn the evening of June 15, a contingent of the Indian Reserve Battalion started flag march in Kamduni. In spite of the paramilitary vigil a team of Citizen's Forum visited Kamduni. Several women's organizations, including Matangini Mahila Samiti, Maitri, Manabi, Ahalya and Chetana, visited Kamduni.\\nOn 17 June, Mamata Banerjee, the Chief Minister of West Bengal visited Kamduni. She promised that charge sheet would be produced against the arrested within 15 days of the incident and that her government would plead for the capital punishment of the culprits. \\n\\n\\n== Arrest and prosecution ==\\nThe residents of Kamduni caught hold of Ansar Ali, the prime accused, and handed him over to the police. After interrogation, he confessed to have committed the crime along with four others. Five persons were named in the FIR. Based on that, the district police arrested three persons in the early hours of 8 June.\\nThe case was investigated by the CID, West Bengal. On 16 June, the CID officers took the eight accused to Kamduni to reconstruct the incident amid tight security by the police and Indian Reserve Battalion. For 45 minutes, the accused recounted how they had gang raped and then murdered the victim, throwing her body over the set wall afterwards. Even fifteen days after the incident, no charge sheet was filed. On 22 June, Ansar Ali was remanded in judicial custody for 14 days. The accused and State Govt. want the legal proceedings shifted from Barasat court.\\nFinally in January 2016, the accused were sentenced - some were sentenced to death and others to life imprisonment.  Additional Sessions Judge Sanchita Sarkar handed out a death sentence to Ansar Ali, Saiful Ali and Aminul Ali, while Emanul Islam, Aminur Islam and Bhola Naskar were sentenced to life imprisonment for the gang-rape and murder of Shipra Ghosh on 07 June 2013.\\nHowever, on 6 October 2023, a divisional bench of the Calcutta High Court, comprising Justices Joymalya Bagchi and Ajay Kumar Gupta acquitted Imanul Islam, Aminul Islam and Bhola Naskar of the charge of gangrape, while convicting them for criminal conspiracy and causing disappearance of evidence. The high court acquitted Amin Ali and commuted the death sentence of Saiful Ali and Ansar Ali to imprisonment till the end of their natural life. The HC also directed the release from custody of another three convicts, whose sentence to life imprisonment was reduced to 7 years, and they already served 10 years, upon payment of a fine of Rs 10,000 each.\\nOn 9 October 2023, at 4 am, the Bengal government filed a special leave petition in the Supreme Court against the HC judgement. In the SLP, the government alleged that there were glaring discrepancies in the impugned judgement and sought its suspension on the grounds that the accused would be released very soon. The Supreme Court didn't order a stay on the judgement bu\")]"
      ]
     },
     "execution_count": 99,
     "metadata": {},
     "output_type": "execute_result"
    }
   ],
   "source": [
    "data"
   ]
  },
  {
   "cell_type": "code",
   "execution_count": 100,
   "id": "58b320c1",
   "metadata": {},
   "outputs": [
    {
     "data": {
      "text/plain": [
       "list"
      ]
     },
     "execution_count": 100,
     "metadata": {},
     "output_type": "execute_result"
    }
   ],
   "source": [
    "type(data)"
   ]
  },
  {
   "cell_type": "code",
   "execution_count": 103,
   "id": "4a958b69",
   "metadata": {},
   "outputs": [
    {
     "name": "stdout",
     "output_type": "stream",
     "text": [
      "Deleting all indexes..\n",
      "done\n"
     ]
    }
   ],
   "source": [
    "delete_pinecone_index()"
   ]
  },
  {
   "cell_type": "code",
   "execution_count": 101,
   "id": "ca49f223",
   "metadata": {},
   "outputs": [],
   "source": [
    "chunks = text_splitter.split_documents(data)"
   ]
  },
  {
   "cell_type": "code",
   "execution_count": 102,
   "id": "29bc34e4",
   "metadata": {},
   "outputs": [
    {
     "data": {
      "text/plain": [
       "'On 9 August 2024, Moumita Debnath, a trainee doctor at R. G. Kar Medical College in Kolkata, West Bengal, India, was raped and murdered in a college building. Her body was found in a seminar room on campus. The incident has amplified debate about the'"
      ]
     },
     "execution_count": 102,
     "metadata": {},
     "output_type": "execute_result"
    }
   ],
   "source": [
    "chunks[0].page_content"
   ]
  },
  {
   "cell_type": "code",
   "execution_count": 104,
   "id": "11fae6c4",
   "metadata": {
    "scrolled": true
   },
   "outputs": [
    {
     "name": "stdout",
     "output_type": "stream",
     "text": [
      "Creating index gemini and embeddings."
     ]
    }
   ],
   "source": [
    "index_name = \"gemini\"\n",
    "vector_store = insert_embeddings(index_name)"
   ]
  },
  {
   "cell_type": "code",
   "execution_count": 105,
   "id": "14ded937",
   "metadata": {},
   "outputs": [],
   "source": [
    "index = pc.Index(index_name)"
   ]
  },
  {
   "cell_type": "code",
   "execution_count": 110,
   "id": "e9383092",
   "metadata": {},
   "outputs": [],
   "source": [
    "from langchain.vectorstores import Pinecone\n",
    "\n",
    "# Initialize the Pinecone vector store\n",
    "vector_store = Pinecone(\n",
    "    index=index,  # Your Pinecone index object\n",
    "    embedding=gemini_embeddings,  # Embedding function\n",
    "    text_key=\"text\"  # Metadata key where document text is stored\n",
    ")"
   ]
  },
  {
   "cell_type": "code",
   "execution_count": 106,
   "id": "7b70e556",
   "metadata": {},
   "outputs": [
    {
     "data": {
      "text/plain": [
       "NoneType"
      ]
     },
     "execution_count": 106,
     "metadata": {},
     "output_type": "execute_result"
    }
   ],
   "source": [
    "type(vector_store)"
   ]
  },
  {
   "cell_type": "code",
   "execution_count": 107,
   "id": "37e52087",
   "metadata": {},
   "outputs": [],
   "source": [
    "from langchain.chains import RetrievalQA\n",
    "def aq(query):\n",
    "    values = {\"model\": \"gemini-1.5-flash-latest\"}  # or another supported model\n",
    "    llm = ChatGoogleGenerativeAI(**values)\n",
    "    retriever = vector_store.as_retriever(search_type='similarity', search_kwargs ={'k' : 3})\n",
    "    chain = RetrievalQA.from_chain_type(llm = llm, chain_type = \"stuff\", retriever=retriever)\n",
    "    ans = chain.run(query)\n",
    "    return ans"
   ]
  },
  {
   "cell_type": "code",
   "execution_count": 116,
   "id": "3cb0ee52",
   "metadata": {},
   "outputs": [],
   "source": [
    "q = 'what happened at nigh of 25th'"
   ]
  },
  {
   "cell_type": "code",
   "execution_count": 117,
   "id": "15cad559",
   "metadata": {
    "scrolled": false
   },
   "outputs": [
    {
     "data": {
      "text/markdown": [
       "The CBI raided the house of Sandip Ghosh and Sanjay Vashisth on the night of 25 August. \n"
      ],
      "text/plain": [
       "<IPython.core.display.Markdown object>"
      ]
     },
     "metadata": {},
     "output_type": "display_data"
    }
   ],
   "source": [
    "display(Markdown(aq(q)))"
   ]
  },
  {
   "cell_type": "code",
   "execution_count": null,
   "id": "b08c6aad",
   "metadata": {},
   "outputs": [],
   "source": []
  }
 ],
 "metadata": {
  "kernelspec": {
   "display_name": "Python 3 (ipykernel)",
   "language": "python",
   "name": "python3"
  },
  "language_info": {
   "codemirror_mode": {
    "name": "ipython",
    "version": 3
   },
   "file_extension": ".py",
   "mimetype": "text/x-python",
   "name": "python",
   "nbconvert_exporter": "python",
   "pygments_lexer": "ipython3",
   "version": "3.9.12"
  }
 },
 "nbformat": 4,
 "nbformat_minor": 5
}
