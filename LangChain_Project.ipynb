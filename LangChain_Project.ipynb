{
 "cells": [
  {
   "cell_type": "markdown",
   "id": "cd068d27",
   "metadata": {
    "collapsed": true
   },
   "source": [
    "pip install docx2txt\n"
   ]
  },
  {
   "cell_type": "markdown",
   "id": "b2f39c37",
   "metadata": {
    "collapsed": true
   },
   "source": [
    "pip install wikipedia -q"
   ]
  },
  {
   "cell_type": "code",
   "execution_count": 1,
   "id": "9c78bb0e",
   "metadata": {},
   "outputs": [],
   "source": [
    "from IPython.display import display, Markdown"
   ]
  },
  {
   "cell_type": "code",
   "execution_count": 2,
   "id": "a9c1c4ef",
   "metadata": {},
   "outputs": [],
   "source": [
    "import getpass\n",
    "import google.generativeai as genai\n",
    "from langchain_google_genai import ChatGoogleGenerativeAI\n"
   ]
  },
  {
   "cell_type": "code",
   "execution_count": 3,
   "id": "beb288b1",
   "metadata": {},
   "outputs": [
    {
     "data": {
      "text/plain": [
       "True"
      ]
     },
     "execution_count": 3,
     "metadata": {},
     "output_type": "execute_result"
    }
   ],
   "source": [
    "import os\n",
    "from dotenv import load_dotenv, find_dotenv\n",
    "load_dotenv('./.env')"
   ]
  },
  {
   "cell_type": "markdown",
   "id": "a22e95f4",
   "metadata": {},
   "source": [
    "def load_document(file): \\\n",
    "    from langchain.document_loaders import PyPDFLoader\\\n",
    "    print(f'Loading {file}')\\\n",
    "    loader = PyPDFLoader(file)\\\n",
    "    data = loader.load()\\\n",
    "    return data"
   ]
  },
  {
   "cell_type": "code",
   "execution_count": null,
   "id": "03e22119",
   "metadata": {},
   "outputs": [],
   "source": [
    "#print(data[1].page_content)\\\n",
    "#print(data[0].metadata) #page numbering starts with 0\\\n",
    "#print(f'you have {len(data)} pages in your data')\\\n",
    "#print(f'There are {len(data[20].page_content)} characters in your page')"
   ]
  },
  {
   "cell_type": "code",
   "execution_count": 4,
   "id": "ccc1a24b",
   "metadata": {},
   "outputs": [],
   "source": [
    "def load_document(file):\n",
    "    name, extension = os.path.splitext(file)\n",
    "    \n",
    "    if extension == '.pdf':\n",
    "        from langchain.document_loaders import PyPDFLoader\n",
    "        print(f'Loading {file}')\n",
    "        loader = PyPDFLoader(file)\n",
    "    \n",
    "    elif extension == '.docx':\n",
    "        from langchain.document_loaders import Docx2txtLoader\n",
    "        print(f'Loading {file}')\n",
    "        loader = Docx2txtLoader(file)\n",
    "        \n",
    "    else:\n",
    "        print(\"Unsupported Format\")\n",
    "        return(None)\n",
    "    \n",
    "    data = loader.load()\n",
    "    return data"
   ]
  },
  {
   "cell_type": "markdown",
   "id": "2ec283b6",
   "metadata": {},
   "source": [
    "#### Running the Code"
   ]
  },
  {
   "cell_type": "code",
   "execution_count": 5,
   "id": "c4358d2e",
   "metadata": {},
   "outputs": [
    {
     "name": "stdout",
     "output_type": "stream",
     "text": [
      "Loading D:/Books/Final Year 1st_Sem/Industrial Training/HPPWD.docx\n"
     ]
    }
   ],
   "source": [
    "data1 = load_document(\"D:/Books/Final Year 1st_Sem/Industrial Training/HPPWD.docx\")"
   ]
  },
  {
   "cell_type": "markdown",
   "id": "25e253ef",
   "metadata": {
    "collapsed": true
   },
   "source": [
    "print(data1[0].page_content)"
   ]
  },
  {
   "cell_type": "markdown",
   "id": "30222b7d",
   "metadata": {},
   "source": [
    "### Public and Private Service Loaders"
   ]
  },
  {
   "cell_type": "code",
   "execution_count": 6,
   "id": "9c300fd9",
   "metadata": {},
   "outputs": [
    {
     "name": "stdout",
     "output_type": "stream",
     "text": [
      "Loading D:/LangChain courses/LLM Project/[CourseClub.Me] ZerotoMastery - Build an LLM-powered QA App using LangChain, OpenAI and Python/code/Notebooks/files/us_constitution.pdf\n"
     ]
    }
   ],
   "source": [
    "data = load_document(\"D:/LangChain courses/LLM Project/[CourseClub.Me] ZerotoMastery - Build an LLM-powered QA App using LangChain, OpenAI and Python/code/Notebooks/files/us_constitution.pdf\")"
   ]
  },
  {
   "cell_type": "code",
   "execution_count": 7,
   "id": "df904cef",
   "metadata": {},
   "outputs": [
    {
     "data": {
      "text/plain": [
       "list"
      ]
     },
     "execution_count": 7,
     "metadata": {},
     "output_type": "execute_result"
    }
   ],
   "source": [
    "type(data)"
   ]
  },
  {
   "cell_type": "code",
   "execution_count": 8,
   "id": "b4c26883",
   "metadata": {},
   "outputs": [],
   "source": [
    "from langchain.text_splitter import RecursiveCharacterTextSplitter\n",
    "text_splitter = RecursiveCharacterTextSplitter(\n",
    "    chunk_size = 256,\n",
    "    chunk_overlap=0,\n",
    "    length_function=len\n",
    ")\n"
   ]
  },
  {
   "cell_type": "markdown",
   "id": "225922ec",
   "metadata": {},
   "source": [
    "#### .create_documents()\n",
    " is used when starting with raw text and creating Document objects from it.\n",
    "#### .split_documents()\n",
    "is used when you already have Document objects and want to split their content into smaller chunks."
   ]
  },
  {
   "cell_type": "markdown",
   "id": "a78e73ee",
   "metadata": {},
   "source": [
    "chunks = text_splitter.create_documents([str(data)])\\\n",
    "print(chunks)"
   ]
  },
  {
   "cell_type": "code",
   "execution_count": 9,
   "id": "efae3d77",
   "metadata": {
    "scrolled": true
   },
   "outputs": [],
   "source": [
    "chunks = text_splitter.split_documents(data)\n"
   ]
  },
  {
   "cell_type": "code",
   "execution_count": 10,
   "id": "b25123c4",
   "metadata": {},
   "outputs": [
    {
     "name": "stdout",
     "output_type": "stream",
     "text": [
      "190\n"
     ]
    }
   ],
   "source": [
    "print(len(chunks))"
   ]
  },
  {
   "cell_type": "code",
   "execution_count": 11,
   "id": "37fd1280",
   "metadata": {
    "collapsed": true
   },
   "outputs": [
    {
     "name": "stdout",
     "output_type": "stream",
     "text": [
      "Representatives\n",
      "shall\n",
      "chuse\n",
      "their\n",
      "Speaker\n",
      "and\n",
      "other\n",
      "Of ficers;and\n",
      "shall\n",
      "have\n",
      "the\n",
      "sole\n",
      "Power\n",
      "of\n",
      "Impeachment.\n",
      "Section\n",
      "3:\n",
      "The\n",
      "Senate\n",
      "The\n",
      "Senate\n",
      "of\n",
      "the\n",
      "United\n",
      "States\n",
      "shall\n",
      "be\n",
      "composed\n",
      "of\n",
      "two\n",
      "Senators\n",
      "from\n",
      "each\n",
      "State,\n",
      "chosen\n",
      "by\n",
      "the\n",
      "Legislature\n",
      "thereof,\n",
      "for\n",
      "six\n"
     ]
    }
   ],
   "source": [
    "print(chunks[10].page_content)"
   ]
  },
  {
   "cell_type": "code",
   "execution_count": 12,
   "id": "f86d058a",
   "metadata": {},
   "outputs": [],
   "source": [
    "import tiktoken"
   ]
  },
  {
   "cell_type": "code",
   "execution_count": 13,
   "id": "ec94a0b6",
   "metadata": {
    "collapsed": true
   },
   "outputs": [
    {
     "name": "stdout",
     "output_type": "stream",
     "text": [
      "Total Tokens: 16711\n",
      "Embedding Cost in USD: 0.006684\n"
     ]
    }
   ],
   "source": [
    "def print_embedding_cost(texts):\n",
    "    enc = tiktoken.encoding_for_model('text-embedding-ada-002')\n",
    "    total_tokens = sum([len(enc.encode(page.page_content)) for page in texts])\n",
    "    print(f'Total Tokens: {total_tokens}')\n",
    "    print(f'Embedding Cost in USD: {total_tokens / 1000 *0.0004:.6f}')\n",
    "\n",
    "print_embedding_cost(chunks)"
   ]
  },
  {
   "cell_type": "markdown",
   "id": "412565af",
   "metadata": {},
   "source": [
    "#### Embedding and Uploading"
   ]
  },
  {
   "cell_type": "code",
   "execution_count": 14,
   "id": "08be10ed",
   "metadata": {},
   "outputs": [],
   "source": [
    "from langchain_google_genai import GoogleGenerativeAIEmbeddings\n",
    "\n",
    "gemini_embeddings = GoogleGenerativeAIEmbeddings(model=\"models/embedding-001\")"
   ]
  },
  {
   "cell_type": "code",
   "execution_count": 15,
   "id": "1905df7a",
   "metadata": {},
   "outputs": [],
   "source": [
    "import pinecone\n",
    "from pinecone import Pinecone, ServerlessSpec\n",
    "\n",
    "pc = Pinecone(api_key=os.environ.get('PINECONE_KEY'))"
   ]
  },
  {
   "cell_type": "code",
   "execution_count": 16,
   "id": "1f335274",
   "metadata": {},
   "outputs": [],
   "source": [
    "def insert_embeddings(index_name):\n",
    "    if index_name in pc.list_indexes():\n",
    "        print(f'Index {index_name} already exists. loading embeddings.', end = '')\n",
    "        vector_store = pc.from_existing_index(index_name, embeddings)\n",
    "        print('done')\n",
    "    else:\n",
    "        print(f'Creating index {index_name} and embeddings.',end = '')\n",
    "        vector_store =  pc.create_index(index_name, dimension=768,metric='cosine',\n",
    "        spec=ServerlessSpec(\n",
    "        cloud=\"aws\",\n",
    "        region=\"us-east-1\"))\n",
    "        index = pc.Index(index_name)\n",
    "        embeddings = [gemini_embeddings.embed_query(doc.page_content) for doc in chunks]\n",
    "        vectors = []\n",
    "        for i, embedding in enumerate(embeddings):\n",
    "            chunk_id = f\"chunk_{i}\"\n",
    "            metadata = {\"text\": chunks[i].page_content}\n",
    "            vectors.append((chunk_id, embedding, metadata))\n",
    "            index.upsert(vectors)\n",
    "        "
   ]
  },
  {
   "cell_type": "code",
   "execution_count": 17,
   "id": "5a9d3c44",
   "metadata": {},
   "outputs": [],
   "source": [
    "def delete_pinecone_index(index_name = 'all'):\n",
    "    if index_name == 'all':\n",
    "        indexes = pc.list_indexes().names()\n",
    "        print('Deleting all indexes..')\n",
    "        for index in indexes:\n",
    "            pc.delete_index(index)\n",
    "            print('done')\n",
    "    else:\n",
    "        print(f' Deleting index {index_name} ... ', end = '')\n",
    "        pc.delete_index(index_name)\n",
    "        print('done')"
   ]
  },
  {
   "cell_type": "code",
   "execution_count": 18,
   "id": "48def5c3",
   "metadata": {
    "scrolled": false
   },
   "outputs": [
    {
     "name": "stdout",
     "output_type": "stream",
     "text": [
      "Deleting all indexes..\n"
     ]
    }
   ],
   "source": [
    "delete_pinecone_index()\n"
   ]
  },
  {
   "cell_type": "code",
   "execution_count": 19,
   "id": "7d2d0ddd",
   "metadata": {},
   "outputs": [
    {
     "name": "stdout",
     "output_type": "stream",
     "text": [
      "Creating index askadocument and embeddings."
     ]
    }
   ],
   "source": [
    "index_name = 'askadocument'\n",
    "vector_store = insert_embeddings(index_name)"
   ]
  },
  {
   "cell_type": "markdown",
   "id": "66693a08",
   "metadata": {},
   "source": [
    "#### Asking and Getting Answers"
   ]
  },
  {
   "cell_type": "code",
   "execution_count": 20,
   "id": "91f9ffa9",
   "metadata": {},
   "outputs": [],
   "source": [
    "gemini_api_key = os.environ.get('GOOGLE_API_KEY')"
   ]
  },
  {
   "cell_type": "code",
   "execution_count": 21,
   "id": "f7d9a477",
   "metadata": {},
   "outputs": [],
   "source": [
    "genai.configure(api_key=gemini_api_key)"
   ]
  },
  {
   "cell_type": "code",
   "execution_count": 22,
   "id": "0fed3366",
   "metadata": {},
   "outputs": [],
   "source": [
    "index = pc.Index(index_name)"
   ]
  },
  {
   "cell_type": "code",
   "execution_count": 23,
   "id": "5494236b",
   "metadata": {},
   "outputs": [
    {
     "name": "stderr",
     "output_type": "stream",
     "text": [
      "D:\\Anaconda\\lib\\site-packages\\langchain_core\\_api\\deprecation.py:141: LangChainDeprecationWarning: The class `Pinecone` was deprecated in LangChain 0.0.18 and will be removed in 0.3.0. An updated version of the class exists in the langchain-pinecone package and should be used instead. To use it run `pip install -U langchain-pinecone` and import as `from langchain_pinecone import Pinecone`.\n",
      "  warn_deprecated(\n"
     ]
    }
   ],
   "source": [
    "from langchain.vectorstores import Pinecone\n",
    "\n",
    "\n",
    "vector_store = Pinecone(\n",
    "    index=index, \n",
    "    embedding=gemini_embeddings,  \n",
    "    text_key=\"text\"  \n",
    ")"
   ]
  },
  {
   "cell_type": "code",
   "execution_count": 24,
   "id": "6f0c1b32",
   "metadata": {},
   "outputs": [
    {
     "data": {
      "text/plain": [
       "langchain_community.vectorstores.pinecone.Pinecone"
      ]
     },
     "execution_count": 24,
     "metadata": {},
     "output_type": "execute_result"
    }
   ],
   "source": [
    "type(vector_store)"
   ]
  },
  {
   "cell_type": "code",
   "execution_count": 25,
   "id": "19b9b77e",
   "metadata": {},
   "outputs": [],
   "source": [
    "from langchain.chains import RetrievalQA\n",
    "def aq(query):\n",
    "    values = {\"model\": \"gemini-1.5-flash-latest\"}  # or another supported model\n",
    "    llm = ChatGoogleGenerativeAI(**values)\n",
    "    retriever = vector_store.as_retriever(search_type='similarity', search_kwargs ={'k' : 3})\n",
    "    chain = RetrievalQA.from_chain_type(llm = llm, chain_type = \"stuff\", retriever=retriever)\n",
    "    ans = chain.run(query)\n",
    "    return ans"
   ]
  },
  {
   "cell_type": "code",
   "execution_count": 26,
   "id": "2e2da18f",
   "metadata": {
    "scrolled": true
   },
   "outputs": [],
   "source": [
    "q = \"What is the context of document ?\"\n"
   ]
  },
  {
   "cell_type": "code",
   "execution_count": 27,
   "id": "a5644d20",
   "metadata": {},
   "outputs": [
    {
     "name": "stderr",
     "output_type": "stream",
     "text": [
      "D:\\Anaconda\\lib\\site-packages\\langchain_core\\_api\\deprecation.py:141: LangChainDeprecationWarning: The method `Chain.run` was deprecated in langchain 0.1.0 and will be removed in 0.3.0. Use invoke instead.\n",
      "  warn_deprecated(\n"
     ]
    },
    {
     "data": {
      "text/markdown": [
       "The text you provided is a snippet from the **United States Constitution**, specifically from **Article III, Section 2**, which deals with the **judicial power** of the United States. \n",
       "\n",
       "The part you included focuses on the jurisdiction of the **Supreme Court**. It outlines the types of cases the court has original jurisdiction over, including:\n",
       "\n",
       "* **Cases affecting ambassadors, other public ministers and consuls**\n",
       "* **Cases of admiralty and maritime jurisdiction**\n",
       "* **Cases in which a state is a party** \n",
       "* **Controversies between two or more states**\n",
       "* **Controversies between citizens of different states**\n",
       "* **Controversies between citizens of the same state claiming lands under grants of different states**\n",
       "* **Controversies between a state, or the citizens thereof, and foreign states, citizens, or subjects**\n",
       "\n",
       "The rest of the document discusses the appellate jurisdiction of the Supreme Court and the power of Congress to create inferior courts. \n"
      ],
      "text/plain": [
       "<IPython.core.display.Markdown object>"
      ]
     },
     "metadata": {},
     "output_type": "display_data"
    }
   ],
   "source": [
    "display(Markdown(aq(q)))"
   ]
  },
  {
   "cell_type": "code",
   "execution_count": 28,
   "id": "d57b3c44",
   "metadata": {},
   "outputs": [
    {
     "name": "stdout",
     "output_type": "stream",
     "text": [
      "Write quit or exit to leave terminal\n",
      "Question #1: what is said about citizens\n"
     ]
    },
    {
     "data": {
      "text/markdown": [
       "The provided text states that citizens of the United States are subject to the jurisdiction of the United States and the State wherein they reside. It also says that no State shall make or enforce any law that would abridge the privileges or immunities of citizens of the United States. \n",
       "\n",
       "Additionally, it mentions that citizens of each State are entitled to all Privileges and Immunities of Citizens in the several States. \n"
      ],
      "text/plain": [
       "<IPython.core.display.Markdown object>"
      ]
     },
     "metadata": {},
     "output_type": "display_data"
    },
    {
     "name": "stdout",
     "output_type": "stream",
     "text": [
      "\n",
      "--------------------------------------------------\n",
      "\n",
      "Question #2: quit\n",
      "Leaving terminal...\n"
     ]
    }
   ],
   "source": [
    "import time\n",
    "i = 1\n",
    "print('Write quit or exit to leave terminal')\n",
    "while True:\n",
    "    q = input(f'Question #{i}: ')\n",
    "    i= i + 1\n",
    "    if q.lower() in ['quit', 'exit']:\n",
    "        print('Leaving terminal...')\n",
    "        time.sleep(2)\n",
    "        break\n",
    "    \n",
    "    answer = aq(q)  # Get the answer from the function\n",
    "    display(Markdown(answer))  # Display the answer as Markdown  # Print the answer as plain text\n",
    "    print(f'\\n{\"-\"*50}\\n')"
   ]
  },
  {
   "cell_type": "code",
   "execution_count": 29,
   "id": "7da2080a",
   "metadata": {},
   "outputs": [],
   "source": [
    "def load_from_wikipedia(query,lang = 'en', load_max_docs=2):\n",
    "    from langchain.document_loaders import WikipediaLoader\n",
    "    loader = WikipediaLoader(query=query, lang=lang, load_max_docs=2)\n",
    "    data = loader.load()\n",
    "    return data"
   ]
  },
  {
   "cell_type": "code",
   "execution_count": 30,
   "id": "6eb14d12",
   "metadata": {},
   "outputs": [
    {
     "name": "stdout",
     "output_type": "stream",
     "text": [
      "On 9 August 2024, Moumita Debnath, a trainee doctor at R. G. Kar Medical College and Hospital in Kolkata, West Bengal, India, was raped and murdered in a college building. Her body was found in a seminar room on campus. The incident has amplified debate about the safety of women and doctors in India, and has sparked significant outrage, nationwide and international protests, and demands for a thorough investigation.\n",
      "\n",
      "\n",
      "== Incident ==\n",
      "On the night of 8 August 2024, the victim had dinner with her colleagues and retired in a seminar hall after a 36-hour shift in the hospital. At about 9:30 IST the following morning, her body was discovered in the seminar hall in a semi-nude state with her eyes, mouth, and genitals bleeding. She was later declared dead. College authorities initially informed her family that she had committed suicide. \n",
      "An autopsy was conducted on 9 August and, after its completion, an unnatural death case was registered.\n",
      "\n",
      "\n",
      "== Investigation ==\n",
      "\n",
      "\n",
      "=== Autopsy report ===\n",
      "An autopsy revealed that the victim had been raped and sexually assaulted before being killed via strangulation. The report, spanning four pages, also noted deep wounds in her genital tract, lips, left leg, right hand, ring finger, neck, and face. The report revealed that the scratch marks on the woman's face were likely caused by the culprit’s fingernails. According to the report, pressure was applied to her mouth and throat, and she was strangled, resulting in a fracture of the thyroid cartilage. The report also noted bleeding from her eyes, mouth, and genitals, with the injuries in her genital area attributed to \"perverted sexuality\" and \"genital torture\". The exact cause of the injuries to her eyes remains undetermined.\n",
      "It was reported that the postmortem autopsy also revealed that around \"150 mg\" of semen was found in the vaginal swab. This finding, along with the extent of injuries, led the doctors who assessed the autopsy report and the victim's parents to suggest Debnath may have been subjected to gang rape. However, the Kolkata Police has dismissed these claims as rumours, stating that it is impossible to distinguish semen from multiple individuals with the naked eye during an autopsy. The CBI investigation has not so far revealed any signs of occurrence of a gang rape. In a clarification of the report's data, it was stated that the \"151 g\" (not mg) relates to the total weight of the genitalia sample collected from the body, not exclusively to semen.\n",
      "\n",
      "\n",
      "=== Arrest ===\n",
      "Following an investigation, the police arrested a suspect, a civic volunteer Sanjay Roy with the Kolkata Police disaster management force who had been posted at the police outpost near the medical college. He has been described as a womaniser and domestic abuser. According to the Kolkata Police, he confessed to the crime. A psycho-analysis test of the accused in the case was conducted by the Delhi's Central Forensic Science Laboratory (CFSL) on the request of the CBI. The officers told PTI that \"he showed no remorse and was unflustered while narrating the incident\". He was sent to 14-day judicial custody on 23 August. \n",
      "A special CBI court had granted permission to the agency to conduct a polygraph test on the accused as well as the ex-principal of the college. The polygraph of the accused revealed several inconsistencies with regard to his narration of the events of the night of the crime. The CBI raided the house of Sandip Kumar Ghosh and former medical superintendent and college vice-principal, Sanjay Vashisth, on 25 August and seized several documents. It also filed an FIR against them over financial irregularities and corruption at the hospital. Later, the Enforcement Directorate (ED) also launched an investigation over the financial irregularities by the hospital administration.\n",
      "\n",
      "\n",
      "=== Investigation of the college principal ===\n",
      "Sandip Kumar Ghosh, an orthopedic surgeon and the principal of the college, resigned amid the protests surrounding the incident. He cited an inability t\n"
     ]
    }
   ],
   "source": [
    "data = load_from_wikipedia(\"Kolkata Case\")\n",
    "print(data[0].page_content)"
   ]
  },
  {
   "cell_type": "code",
   "execution_count": 31,
   "id": "dc6b8ae5",
   "metadata": {},
   "outputs": [
    {
     "data": {
      "text/plain": [
       "Document(metadata={'title': '2024 Kolkata rape and murder incident', 'summary': 'On 9 August 2024, Moumita Debnath, a trainee doctor at R. G. Kar Medical College and Hospital in Kolkata, West Bengal, India, was raped and murdered in a college building. Her body was found in a seminar room on campus. The incident has amplified debate about the safety of women and doctors in India, and has sparked significant outrage, nationwide and international protests, and demands for a thorough investigation.', 'source': 'https://en.wikipedia.org/wiki/2024_Kolkata_rape_and_murder_incident'}, page_content='On 9 August 2024, Moumita Debnath, a trainee doctor at R. G. Kar Medical College and Hospital in Kolkata, West Bengal, India, was raped and murdered in a college building. Her body was found in a seminar room on campus. The incident has amplified debate about the safety of women and doctors in India, and has sparked significant outrage, nationwide and international protests, and demands for a thorough investigation.\\n\\n\\n== Incident ==\\nOn the night of 8 August 2024, the victim had dinner with her colleagues and retired in a seminar hall after a 36-hour shift in the hospital. At about 9:30 IST the following morning, her body was discovered in the seminar hall in a semi-nude state with her eyes, mouth, and genitals bleeding. She was later declared dead. College authorities initially informed her family that she had committed suicide. \\nAn autopsy was conducted on 9 August and, after its completion, an unnatural death case was registered.\\n\\n\\n== Investigation ==\\n\\n\\n=== Autopsy report ===\\nAn autopsy revealed that the victim had been raped and sexually assaulted before being killed via strangulation. The report, spanning four pages, also noted deep wounds in her genital tract, lips, left leg, right hand, ring finger, neck, and face. The report revealed that the scratch marks on the woman\\'s face were likely caused by the culprit’s fingernails. According to the report, pressure was applied to her mouth and throat, and she was strangled, resulting in a fracture of the thyroid cartilage. The report also noted bleeding from her eyes, mouth, and genitals, with the injuries in her genital area attributed to \"perverted sexuality\" and \"genital torture\". The exact cause of the injuries to her eyes remains undetermined.\\nIt was reported that the postmortem autopsy also revealed that around \"150 mg\" of semen was found in the vaginal swab. This finding, along with the extent of injuries, led the doctors who assessed the autopsy report and the victim\\'s parents to suggest Debnath may have been subjected to gang rape. However, the Kolkata Police has dismissed these claims as rumours, stating that it is impossible to distinguish semen from multiple individuals with the naked eye during an autopsy. The CBI investigation has not so far revealed any signs of occurrence of a gang rape. In a clarification of the report\\'s data, it was stated that the \"151 g\" (not mg) relates to the total weight of the genitalia sample collected from the body, not exclusively to semen.\\n\\n\\n=== Arrest ===\\nFollowing an investigation, the police arrested a suspect, a civic volunteer Sanjay Roy with the Kolkata Police disaster management force who had been posted at the police outpost near the medical college. He has been described as a womaniser and domestic abuser. According to the Kolkata Police, he confessed to the crime. A psycho-analysis test of the accused in the case was conducted by the Delhi\\'s Central Forensic Science Laboratory (CFSL) on the request of the CBI. The officers told PTI that \"he showed no remorse and was unflustered while narrating the incident\". He was sent to 14-day judicial custody on 23 August. \\nA special CBI court had granted permission to the agency to conduct a polygraph test on the accused as well as the ex-principal of the college. The polygraph of the accused revealed several inconsistencies with regard to his narration of the events of the night of the crime. The CBI raided the house of Sandip Kumar Ghosh and former medical superintendent and college vice-principal, Sanjay Vashisth, on 25 August and seized several documents. It also filed an FIR against them over financial irregularities and corruption at the hospital. Later, the Enforcement Directorate (ED) also launched an investigation over the financial irregularities by the hospital administration.\\n\\n\\n=== Investigation of the college principal ===\\nSandip Kumar Ghosh, an orthopedic surgeon and the principal of the college, resigned amid the protests surrounding the incident. He cited an inability t')"
      ]
     },
     "execution_count": 31,
     "metadata": {},
     "output_type": "execute_result"
    }
   ],
   "source": [
    "data[0]"
   ]
  },
  {
   "cell_type": "code",
   "execution_count": 32,
   "id": "737f9379",
   "metadata": {},
   "outputs": [
    {
     "data": {
      "text/plain": [
       "[Document(metadata={'title': '2024 Kolkata rape and murder incident', 'summary': 'On 9 August 2024, Moumita Debnath, a trainee doctor at R. G. Kar Medical College and Hospital in Kolkata, West Bengal, India, was raped and murdered in a college building. Her body was found in a seminar room on campus. The incident has amplified debate about the safety of women and doctors in India, and has sparked significant outrage, nationwide and international protests, and demands for a thorough investigation.', 'source': 'https://en.wikipedia.org/wiki/2024_Kolkata_rape_and_murder_incident'}, page_content='On 9 August 2024, Moumita Debnath, a trainee doctor at R. G. Kar Medical College and Hospital in Kolkata, West Bengal, India, was raped and murdered in a college building. Her body was found in a seminar room on campus. The incident has amplified debate about the safety of women and doctors in India, and has sparked significant outrage, nationwide and international protests, and demands for a thorough investigation.\\n\\n\\n== Incident ==\\nOn the night of 8 August 2024, the victim had dinner with her colleagues and retired in a seminar hall after a 36-hour shift in the hospital. At about 9:30 IST the following morning, her body was discovered in the seminar hall in a semi-nude state with her eyes, mouth, and genitals bleeding. She was later declared dead. College authorities initially informed her family that she had committed suicide. \\nAn autopsy was conducted on 9 August and, after its completion, an unnatural death case was registered.\\n\\n\\n== Investigation ==\\n\\n\\n=== Autopsy report ===\\nAn autopsy revealed that the victim had been raped and sexually assaulted before being killed via strangulation. The report, spanning four pages, also noted deep wounds in her genital tract, lips, left leg, right hand, ring finger, neck, and face. The report revealed that the scratch marks on the woman\\'s face were likely caused by the culprit’s fingernails. According to the report, pressure was applied to her mouth and throat, and she was strangled, resulting in a fracture of the thyroid cartilage. The report also noted bleeding from her eyes, mouth, and genitals, with the injuries in her genital area attributed to \"perverted sexuality\" and \"genital torture\". The exact cause of the injuries to her eyes remains undetermined.\\nIt was reported that the postmortem autopsy also revealed that around \"150 mg\" of semen was found in the vaginal swab. This finding, along with the extent of injuries, led the doctors who assessed the autopsy report and the victim\\'s parents to suggest Debnath may have been subjected to gang rape. However, the Kolkata Police has dismissed these claims as rumours, stating that it is impossible to distinguish semen from multiple individuals with the naked eye during an autopsy. The CBI investigation has not so far revealed any signs of occurrence of a gang rape. In a clarification of the report\\'s data, it was stated that the \"151 g\" (not mg) relates to the total weight of the genitalia sample collected from the body, not exclusively to semen.\\n\\n\\n=== Arrest ===\\nFollowing an investigation, the police arrested a suspect, a civic volunteer Sanjay Roy with the Kolkata Police disaster management force who had been posted at the police outpost near the medical college. He has been described as a womaniser and domestic abuser. According to the Kolkata Police, he confessed to the crime. A psycho-analysis test of the accused in the case was conducted by the Delhi\\'s Central Forensic Science Laboratory (CFSL) on the request of the CBI. The officers told PTI that \"he showed no remorse and was unflustered while narrating the incident\". He was sent to 14-day judicial custody on 23 August. \\nA special CBI court had granted permission to the agency to conduct a polygraph test on the accused as well as the ex-principal of the college. The polygraph of the accused revealed several inconsistencies with regard to his narration of the events of the night of the crime. The CBI raided the house of Sandip Kumar Ghosh and former medical superintendent and college vice-principal, Sanjay Vashisth, on 25 August and seized several documents. It also filed an FIR against them over financial irregularities and corruption at the hospital. Later, the Enforcement Directorate (ED) also launched an investigation over the financial irregularities by the hospital administration.\\n\\n\\n=== Investigation of the college principal ===\\nSandip Kumar Ghosh, an orthopedic surgeon and the principal of the college, resigned amid the protests surrounding the incident. He cited an inability t'),\n",
       " Document(metadata={'title': 'Kolkata Police', 'summary': 'The Kolkata Police (Bengali: কলকাতা পুলিশ, IAST: Kolakātā Pulisa, officially Kolkata Police Force, formerly Calcutta Police Force till 2001) is the territorial police force responsible for law enforcement and crime prevention within the metropolitan area of the city of Kolkata, West Bengal. It is one of the two primary police forces in West Bengal, the other being the West Bengal Police.\\nThe main operational area covered by the Kolkata Police is the Kolkata Metropolitan Region, excluding the neighbouring cities of Howrah (covered by the Howrah City Police), Barrackpore (covered by the Barrackpore City Police), Chandannagar (covered by the Chandannagar City Police) and the neighbouring locality of New Town (covered by the Bidhannagar City Police)\\nThe primary functions of the Kolkata Police Force are maintaining law and order in the city, traffic management, prevention and detection of crime and co-ordinating various citizen-centric services for the people of Kolkata. As of 2024, Kolkata Police has ten divisions covering 91 police stations. It has a strength of approximately 37,400 and a territorial jurisdiction of c.\\u2009530.34 km2 (204.77 sq mi). There are nine battalions of armed forces as well as specialised branches.\\nThe Kolkata Police Force is the only metropolitan police force in the country to be structurally independent of the territorial police force of its state—the West Bengal Police.', 'source': 'https://en.wikipedia.org/wiki/Kolkata_Police'}, page_content='The Kolkata Police (Bengali: কলকাতা পুলিশ, IAST: Kolakātā Pulisa, officially Kolkata Police Force, formerly Calcutta Police Force till 2001) is the territorial police force responsible for law enforcement and crime prevention within the metropolitan area of the city of Kolkata, West Bengal. It is one of the two primary police forces in West Bengal, the other being the West Bengal Police.\\nThe main operational area covered by the Kolkata Police is the Kolkata Metropolitan Region, excluding the neighbouring cities of Howrah (covered by the Howrah City Police), Barrackpore (covered by the Barrackpore City Police), Chandannagar (covered by the Chandannagar City Police) and the neighbouring locality of New Town (covered by the Bidhannagar City Police)\\nThe primary functions of the Kolkata Police Force are maintaining law and order in the city, traffic management, prevention and detection of crime and co-ordinating various citizen-centric services for the people of Kolkata. As of 2024, Kolkata Police has ten divisions covering 91 police stations. It has a strength of approximately 37,400 and a territorial jurisdiction of c.\\u2009530.34 km2 (204.77 sq mi). There are nine battalions of armed forces as well as specialised branches.\\nThe Kolkata Police Force is the only metropolitan police force in the country to be structurally independent of the territorial police force of its state—the West Bengal Police.\\n\\n\\n== History ==\\n\\n\\n=== Early years (17th century) ===\\nThe history of the present structure of policing in Kolkata goes back to East India company times, when the city was known as \"Calcutta\", and was an early settlement of the English East India Company. Calcutta was founded on the eastern banks of the Hooghly by an Englishman, Job Charnock in 1690. Policing in Calcutta\\'s earliest days was confined to the Mughal administration and their local representatives. Bengal was still technically a part of the Mughal Empire, but the Nawabs of Bengal, based in Murshidabad in Northern South Bengal, were its effective rulers. The watch and ward functions were entrusted to a Kotwal or town prefect who had 45 peons under him, armed with traditional weapons like staves and spears, to deal with miscreants.\\n\\n\\n=== East India Company Police (1720–1845) ===\\nIn 1720, the East India Company formally appointed an officer to be in charge of civil and criminal administration. He was assisted by an Indian functionary commonly known as black deputy or black zamindar. Under him were three naib-dewans, one of whom was in charge of the police. The settlement was divided into \"thanas\" (police stations) under \"thanadars\" who had in turn contingents of \"naiks\" and \"paiks\". A small contingent of river police was also formed. A statute passed in 1778 raised the strength of the police in Calcutta to 700 paiks, 31 thanadars and 34 naibs under a superintendent. In 1785 commissioners of conservancy were appointed for the town who also looked after watch and ward. Policing was still very loosely organised. In 1794, justices of peace were appointed for the municipal administration of Calcutta and its suburbs, under a chief magistrate who was directly in charge of the Police. In 1806 justices of peace were constituted as magistrates of 24 Parganas and parts of the adjacent districts within a 20-mile radius of the town.\\n\\n\\n=== Consolidation (1845–1866) ===\\nThe middle decades of the 19th century witnessed a greater systematisation and institutionalisation of policing in Calcutta. A city magistrate named William Coats Blacquiere inaugurated a network of spies or goendas (Bengali: গোয়েন্দা). In 1845 a committee under J.H. Patton brought about key changes in police organisation which now began to be modelled on the London Metropolitan Police. A Commissioner of Police was appointed with powers of a justice of peace to preserve law and order, detect crime and apprehend offenders. In 1856 the Governor-General promulgated an Act treating the Calcutta Police as a separate organisation and S. ')]"
      ]
     },
     "execution_count": 32,
     "metadata": {},
     "output_type": "execute_result"
    }
   ],
   "source": [
    "data"
   ]
  },
  {
   "cell_type": "code",
   "execution_count": 35,
   "id": "58b320c1",
   "metadata": {},
   "outputs": [
    {
     "data": {
      "text/plain": [
       "list"
      ]
     },
     "execution_count": 35,
     "metadata": {},
     "output_type": "execute_result"
    }
   ],
   "source": [
    "type(data)"
   ]
  },
  {
   "cell_type": "code",
   "execution_count": 33,
   "id": "4a958b69",
   "metadata": {},
   "outputs": [
    {
     "name": "stdout",
     "output_type": "stream",
     "text": [
      "Deleting all indexes..\n",
      "done\n"
     ]
    }
   ],
   "source": [
    "delete_pinecone_index()"
   ]
  },
  {
   "cell_type": "code",
   "execution_count": 34,
   "id": "ca49f223",
   "metadata": {},
   "outputs": [],
   "source": [
    "chunks = text_splitter.split_documents(data)"
   ]
  },
  {
   "cell_type": "code",
   "execution_count": 35,
   "id": "cbec0eab",
   "metadata": {},
   "outputs": [
    {
     "data": {
      "text/plain": [
       "'On 9 August 2024, Moumita Debnath, a trainee doctor at R. G. Kar Medical College and Hospital in Kolkata, West Bengal, India, was raped and murdered in a college building. Her body was found in a seminar room on campus. The incident has amplified debate'"
      ]
     },
     "execution_count": 35,
     "metadata": {},
     "output_type": "execute_result"
    }
   ],
   "source": [
    "chunks[0].page_content"
   ]
  },
  {
   "cell_type": "code",
   "execution_count": 36,
   "id": "11fae6c4",
   "metadata": {
    "scrolled": true
   },
   "outputs": [
    {
     "name": "stdout",
     "output_type": "stream",
     "text": [
      "Creating index gemini and embeddings."
     ]
    }
   ],
   "source": [
    "index_name = \"gemini\"\n",
    "vector_store = insert_embeddings(index_name)"
   ]
  },
  {
   "cell_type": "code",
   "execution_count": 37,
   "id": "3daf5355",
   "metadata": {},
   "outputs": [],
   "source": [
    "index = pc.Index(index_name)"
   ]
  },
  {
   "cell_type": "code",
   "execution_count": 38,
   "id": "a3d5dfec",
   "metadata": {},
   "outputs": [],
   "source": [
    "from langchain.vectorstores import Pinecone\n",
    "\n",
    "# Initialize the Pinecone vector store\n",
    "vector_store = Pinecone(\n",
    "    index=index,  # Your Pinecone index object\n",
    "    embedding=gemini_embeddings,  # Embedding function\n",
    "    text_key=\"text\"  # Metadata key where document text is stored\n",
    ")"
   ]
  },
  {
   "cell_type": "code",
   "execution_count": 39,
   "id": "08e81560",
   "metadata": {},
   "outputs": [
    {
     "data": {
      "text/plain": [
       "langchain_community.vectorstores.pinecone.Pinecone"
      ]
     },
     "execution_count": 39,
     "metadata": {},
     "output_type": "execute_result"
    }
   ],
   "source": [
    "type(vector_store)"
   ]
  },
  {
   "cell_type": "code",
   "execution_count": 40,
   "id": "7922604f",
   "metadata": {},
   "outputs": [],
   "source": [
    "from langchain.chains import RetrievalQA\n",
    "def aq(query):\n",
    "    values = {\"model\": \"gemini-1.5-flash-latest\"}  # or another supported model\n",
    "    llm = ChatGoogleGenerativeAI(**values)\n",
    "    retriever = vector_store.as_retriever(search_type='similarity', search_kwargs ={'k' : 3})\n",
    "    chain = RetrievalQA.from_chain_type(llm = llm, chain_type = \"stuff\", retriever=retriever)\n",
    "    ans = chain.run(query)\n",
    "    return ans"
   ]
  },
  {
   "cell_type": "code",
   "execution_count": 41,
   "id": "3cb0ee52",
   "metadata": {},
   "outputs": [],
   "source": [
    "q = 'what happened at seminar room'"
   ]
  },
  {
   "cell_type": "code",
   "execution_count": 42,
   "id": "15cad559",
   "metadata": {
    "scrolled": true
   },
   "outputs": [
    {
     "data": {
      "text/markdown": [
       "The victim's body was discovered in the seminar room in a semi-nude state with her eyes, mouth, and genitals bleeding. She was later declared dead. \n"
      ],
      "text/plain": [
       "<IPython.core.display.Markdown object>"
      ]
     },
     "metadata": {},
     "output_type": "display_data"
    }
   ],
   "source": [
    "display(Markdown(aq(q)))"
   ]
  },
  {
   "cell_type": "code",
   "execution_count": 43,
   "id": "727a92dc",
   "metadata": {},
   "outputs": [],
   "source": [
    "q = 'what is written college authorities'"
   ]
  },
  {
   "cell_type": "code",
   "execution_count": 44,
   "id": "8922124b",
   "metadata": {},
   "outputs": [
    {
     "data": {
      "text/markdown": [
       "The provided text states that \"College authorities initially informed her family that she had committed suicide.\" \n"
      ],
      "text/plain": [
       "<IPython.core.display.Markdown object>"
      ]
     },
     "metadata": {},
     "output_type": "display_data"
    }
   ],
   "source": [
    "display(Markdown(aq(q)))"
   ]
  },
  {
   "cell_type": "markdown",
   "id": "0710c4d0",
   "metadata": {},
   "source": [
    "### Creating Memory"
   ]
  },
  {
   "cell_type": "code",
   "execution_count": 45,
   "id": "af483e36",
   "metadata": {},
   "outputs": [],
   "source": [
    "def ask_with_memory(vector_store, ques, chat_history = []):\n",
    "    from langchain.chains import ConversationalRetrievalChain\n",
    "    values = {\"model\": \"gemini-1.5-flash-latest\"}\n",
    "    llm = ChatGoogleGenerativeAI(**values)\n",
    "    retriever = vector_store.as_retriever(search_type='similarity', search_kwargs ={'k' : 3})\n",
    "    crc = ConversationalRetrievalChain.from_llm(llm, retriever)\n",
    "    result = crc({'question':ques,'chat_history':chat_history})\n",
    "    chat_history.append((ques, result['answer']))\n",
    "        \n",
    "    return result, chat_history"
   ]
  },
  {
   "cell_type": "code",
   "execution_count": 46,
   "id": "381b3841",
   "metadata": {},
   "outputs": [
    {
     "name": "stderr",
     "output_type": "stream",
     "text": [
      "D:\\Anaconda\\lib\\site-packages\\langchain_core\\_api\\deprecation.py:141: LangChainDeprecationWarning: The method `Chain.__call__` was deprecated in langchain 0.1.0 and will be removed in 0.3.0. Use invoke instead.\n",
      "  warn_deprecated(\n"
     ]
    },
    {
     "name": "stdout",
     "output_type": "stream",
     "text": [
      "The provided text mentions that the individual was sent to 14-day judicial custody on August 23rd. \n",
      "\n"
     ]
    }
   ],
   "source": [
    "chat_history = []\n",
    "ques = 'What was the date'\n",
    "result, chat_history = ask_with_memory(vector_store, ques, chat_history)\n",
    "print(result['answer'])"
   ]
  },
  {
   "cell_type": "code",
   "execution_count": 47,
   "id": "c006c33a",
   "metadata": {},
   "outputs": [
    {
     "name": "stdout",
     "output_type": "stream",
     "text": [
      "August 23rd is a date, not a number.  I can't multiply a date by 2. \n",
      "\n"
     ]
    }
   ],
   "source": [
    "ques = 'multiply it by 2'\n",
    "result, chat_history = ask_with_memory(vector_store, ques, chat_history)\n",
    "print(result['answer'])"
   ]
  }
 ],
 "metadata": {
  "kernelspec": {
   "display_name": "Python 3 (ipykernel)",
   "language": "python",
   "name": "python3"
  },
  "language_info": {
   "codemirror_mode": {
    "name": "ipython",
    "version": 3
   },
   "file_extension": ".py",
   "mimetype": "text/x-python",
   "name": "python",
   "nbconvert_exporter": "python",
   "pygments_lexer": "ipython3",
   "version": "3.9.12"
  }
 },
 "nbformat": 4,
 "nbformat_minor": 5
}
